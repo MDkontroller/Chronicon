{
 "cells": [
  {
   "cell_type": "markdown",
   "id": "ecdd928c",
   "metadata": {},
   "source": [
    "# Video wrapper understanding"
   ]
  },
  {
   "cell_type": "code",
   "execution_count": 2,
   "id": "62a3708c",
   "metadata": {},
   "outputs": [
    {
     "name": "stdout",
     "output_type": "stream",
     "text": [
      "✅ Created MP4 video\n",
      "Created video at: .\\dummy_test_video.mp4\n",
      "🎬 Opening video file: .\\dummy_test_video.mp4\n",
      "✅ Video opened\n",
      "   - Resolution: 320x240\n",
      "   - FPS: 15.0\n",
      "   - Total frames reported: 45\n",
      "   - Seek to frame 0: OK\n",
      "   - Seek to frame 22: OK\n",
      "   - Seek to frame 44: OK\n",
      "Done. Frames successfully grabbed: 3\n"
     ]
    }
   ],
   "source": [
    "# Let's create a tiny synthetic video and then run the exact workflow you showed.\n",
    "# This way you can see how cv2.VideoCapture + CAP_PROP_FRAME_COUNT behaves in practice.\n",
    "\n",
    "import cv2\n",
    "import numpy as np\n",
    "import os, sys\n",
    "from pathlib import Path\n",
    "\n",
    "def create_dummy_video(out_path: str, w=320, h=240, fps=15, frames=45, codec='mp4v'):\n",
    "    \"\"\"Create a small synthetic video to test VideoCapture workflow.\"\"\"\n",
    "    fourcc = cv2.VideoWriter_fourcc(*codec)\n",
    "    vw = cv2.VideoWriter(out_path, fourcc, fps, (w, h))\n",
    "    if not vw.isOpened():\n",
    "        raise RuntimeError(f\"Failed to open VideoWriter for {out_path} with codec {codec}\")\n",
    "    for i in range(frames):\n",
    "        # simple moving gradient pattern\n",
    "        img = np.zeros((h, w, 3), dtype=np.uint8)\n",
    "        img[:] = ((i*5) % 255, (i*3) % 255, (i*7) % 255)\n",
    "        cv2.putText(img, f\"frame {i}\", (20, h//2), cv2.FONT_HERSHEY_SIMPLEX, 0.8, (255,255,255), 2, cv2.LINE_AA)\n",
    "        vw.write(img)\n",
    "    vw.release()\n",
    "    return out_path\n",
    "\n",
    "# Try mp4 first; fallback to avi if mp4 isn't supported in this environment.\n",
    "base = \".\"  # Use current directory instead of Linux-specific path\n",
    "mp4_path = os.path.join(base, \"dummy_test_video.mp4\")\n",
    "avi_path = os.path.join(base, \"dummy_test_video.avi\")\n",
    "\n",
    "video_path = None\n",
    "try:\n",
    "    video_path = create_dummy_video(mp4_path, codec='mp4v')\n",
    "    print(\"✅ Created MP4 video\")\n",
    "except Exception as e:\n",
    "    print(f\"⚠️  MP4 failed ({e}), trying AVI...\")\n",
    "    try:\n",
    "        video_path = create_dummy_video(avi_path, codec='XVID')\n",
    "        print(\"✅ Created AVI video\")\n",
    "    except Exception as e2:\n",
    "        print(f\"❌ Both MP4 and AVI failed: {e2}\")\n",
    "        raise\n",
    "\n",
    "print(\"Created video at:\", video_path)\n",
    "\n",
    "# Now run the snippet-like workflow\n",
    "print(\"🎬 Opening video file:\", video_path)\n",
    "cap = cv2.VideoCapture(video_path)\n",
    "if not cap.isOpened():\n",
    "    print(\"❌ Could not open the video file.\")\n",
    "else:\n",
    "    frame_count = int(cap.get(cv2.CAP_PROP_FRAME_COUNT))\n",
    "    fps = cap.get(cv2.CAP_PROP_FPS)\n",
    "    width = int(cap.get(cv2.CAP_PROP_FRAME_WIDTH))\n",
    "    height = int(cap.get(cv2.CAP_PROP_FRAME_HEIGHT))\n",
    "    print(\"✅ Video opened\")\n",
    "    print(\"   - Resolution:\", f\"{width}x{height}\")\n",
    "    print(\"   - FPS:\", fps)\n",
    "    print(\"   - Total frames reported:\", frame_count)\n",
    "    # Peek a couple of frames to show reading works\n",
    "    grabbed_frames = 0\n",
    "    sample_idxs = [0, max(0, frame_count//2), max(0, frame_count-1)]\n",
    "    for idx in sample_idxs:\n",
    "        cap.set(cv2.CAP_PROP_POS_FRAMES, idx)\n",
    "        ret, frame = cap.read()\n",
    "        print(f\"   - Seek to frame {idx}: {'OK' if ret else 'FAIL'}\")\n",
    "        if ret:\n",
    "            grabbed_frames += 1\n",
    "    cap.release()\n",
    "    print(\"Done. Frames successfully grabbed:\", grabbed_frames)\n"
   ]
  },
  {
   "cell_type": "code",
   "execution_count": 3,
   "id": "dd89924c",
   "metadata": {},
   "outputs": [
    {
     "name": "stdout",
     "output_type": "stream",
     "text": [
      "🔍 Testing video reading...\n",
      "✅ Video properties:\n",
      "   - Frames: 45\n",
      "   - FPS: 15.0\n",
      "   - Resolution: 320x240\n",
      "   - Successfully read 5 frames\n",
      "🏁 Video capture released\n"
     ]
    }
   ],
   "source": [
    "# Test reading the video we just created\n",
    "print(\"🔍 Testing video reading...\")\n",
    "cap = cv2.VideoCapture(video_path)\n",
    "\n",
    "if not cap.isOpened():\n",
    "    print(\"❌ Failed to open video for testing\")\n",
    "else:\n",
    "    frame_count = int(cap.get(cv2.CAP_PROP_FRAME_COUNT))\n",
    "    fps = cap.get(cv2.CAP_PROP_FPS)\n",
    "    width = int(cap.get(cv2.CAP_PROP_FRAME_WIDTH))\n",
    "    height = int(cap.get(cv2.CAP_PROP_FRAME_HEIGHT))\n",
    "    \n",
    "    print(f\"✅ Video properties:\")\n",
    "    print(f\"   - Frames: {frame_count}\")\n",
    "    print(f\"   - FPS: {fps}\")\n",
    "    print(f\"   - Resolution: {width}x{height}\")\n",
    "    \n",
    "    # Test reading a few frames\n",
    "    frames_read = 0\n",
    "    cap.set(cv2.CAP_PROP_POS_FRAMES, 0)  # Go to first frame\n",
    "    for i in range(min(5, frame_count)):  # Read up to 5 frames\n",
    "        ret, frame = cap.read()\n",
    "        if ret:\n",
    "            frames_read += 1\n",
    "        else:\n",
    "            break\n",
    "    \n",
    "    print(f\"   - Successfully read {frames_read} frames\")\n",
    "    \n",
    "# Always release the capture\n",
    "cap.release()\n",
    "print(\"🏁 Video capture released\")\n"
   ]
  },
  {
   "cell_type": "markdown",
   "id": "1b9e66fa",
   "metadata": {},
   "source": [
    "# Clever sampling"
   ]
  },
  {
   "cell_type": "code",
   "execution_count": 4,
   "id": "3b4329fc",
   "metadata": {},
   "outputs": [
    {
     "name": "stdout",
     "output_type": "stream",
     "text": [
      "True 12.1\n"
     ]
    }
   ],
   "source": [
    "import torch\n",
    "print(torch.cuda.is_available(), torch.version.cuda)\n"
   ]
  }
 ],
 "metadata": {
  "kernelspec": {
   "display_name": ".venv",
   "language": "python",
   "name": "python3"
  },
  "language_info": {
   "codemirror_mode": {
    "name": "ipython",
    "version": 3
   },
   "file_extension": ".py",
   "mimetype": "text/x-python",
   "name": "python",
   "nbconvert_exporter": "python",
   "pygments_lexer": "ipython3",
   "version": "3.10.11"
  }
 },
 "nbformat": 4,
 "nbformat_minor": 5
}
